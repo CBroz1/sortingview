{
 "cells": [
  {
   "cell_type": "code",
   "execution_count": null,
   "id": "35dca161",
   "metadata": {
    "lines_to_next_cell": 0
   },
   "outputs": [],
   "source": [
    "# imports\n",
    "\n",
    "import sortingview as sv\n",
    "import spikeinterface.extractors as se\n",
    "import kachery_cloud as kcl"
   ]
  },
  {
   "cell_type": "code",
   "execution_count": null,
   "id": "28b6c719",
   "metadata": {
    "lines_to_next_cell": 0
   },
   "outputs": [],
   "source": [
    "# Define SpikeInterface extractors for a recording/sorting pair\n",
    "# See: https://spikeinterface.readthedocs.io/en/latest/\n",
    "recording, sorting = se.toy_example(num_units=10, duration=120, seed=0)\n",
    "\n",
    "# Note that only some recording/sorting extractors are supported by sortingview\n",
    "# Here is how we create copies of the extractors that are compatible with sortingview\n",
    "R = sv.copy_recording_extractor(recording=recording, serialize_dtype='float32')\n",
    "S = sv.copy_sorting_extractor(sorting=sorting)"
   ]
  },
  {
   "cell_type": "code",
   "execution_count": null,
   "id": "5005f7e9",
   "metadata": {
    "lines_to_next_cell": 0
   },
   "outputs": [],
   "source": [
    "# Create a sortingview workspace and add the recording/sorting\n",
    "W: sv.Workspace = sv.create_workspace(label='example')\n",
    "recording_id = W.add_recording(label='recording1', recording=R)\n",
    "sorting_id = W.add_sorting(recording_id=recording_id, label='true', sorting=S)"
   ]
  },
  {
   "cell_type": "code",
   "execution_count": null,
   "id": "32284bb3",
   "metadata": {
    "lines_to_next_cell": 0
   },
   "outputs": [],
   "source": [
    "# Create a curation feed and set the access permissions\n",
    "curation_users = [] # list of curation user IDs\n",
    "W.create_curation_feed_for_sorting(sorting_id=sorting_id)\n",
    "W.set_sorting_curation_authorized_users(sorting_id=sorting_id, user_ids=curation_users)\n",
    "sorting_curation_uri = W.get_sorting_curation_uri(sorting_id=sorting_id)"
   ]
  },
  {
   "cell_type": "code",
   "execution_count": null,
   "id": "797c56e0",
   "metadata": {
    "lines_to_next_cell": 0
   },
   "outputs": [],
   "source": [
    "# Print the workspace URI\n",
    "# This can be used to load the workspace at a later time\n",
    "print(f'Workspace URI: {W.uri}')"
   ]
  },
  {
   "cell_type": "code",
   "execution_count": null,
   "id": "a9ddc327",
   "metadata": {},
   "outputs": [],
   "source": [
    "# Save the workspace URI in a local mutable\n",
    "# so it can be retrieved in the other notebooks\n",
    "kcl.set_mutable_local('sortingview-workspace-example-uri', W.uri)"
   ]
  }
 ],
 "metadata": {
  "jupytext": {
   "cell_metadata_filter": "-all",
   "main_language": "python",
   "notebook_metadata_filter": "-all"
  }
 },
 "nbformat": 4,
 "nbformat_minor": 5
}
