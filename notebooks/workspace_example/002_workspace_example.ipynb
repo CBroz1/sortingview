{
 "cells": [
  {
   "cell_type": "code",
   "execution_count": null,
   "id": "f3a90c41",
   "metadata": {
    "lines_to_next_cell": 0
   },
   "outputs": [],
   "source": [
    "from typing import List\n",
    "import kachery_cloud as kcl\n",
    "import sortingview as sv\n",
    "import sortingview.views as vv\n",
    "from sortingview.SpikeSortingView import SpikeSortingView"
   ]
  },
  {
   "cell_type": "code",
   "execution_count": null,
   "id": "ac9de151",
   "metadata": {
    "lines_to_next_cell": 0
   },
   "outputs": [],
   "source": [
    "# Retrieve the workspace URI from the local mutable\n",
    "# which was created in the previous notebook\n",
    "workspace_uri = kcl.get_mutable_local('sortingview-workspace-example-uri')"
   ]
  },
  {
   "cell_type": "code",
   "execution_count": null,
   "id": "bef912b2",
   "metadata": {
    "lines_to_next_cell": 0
   },
   "outputs": [],
   "source": [
    "# Load the workspace and get the sorting/recording IDs\n",
    "W = sv.load_workspace(workspace_uri)\n",
    "recording_id = W.recording_ids[0]\n",
    "sorting_id = W.get_sorting_ids_for_recording(recording_id)[0]"
   ]
  },
  {
   "cell_type": "code",
   "execution_count": null,
   "id": "1be8984f",
   "metadata": {
    "lines_to_next_cell": 0
   },
   "outputs": [],
   "source": [
    "print('Preparing spikesortingview data')\n",
    "X = SpikeSortingView.create(\n",
    "    recording=W.get_recording_extractor(recording_id),\n",
    "    sorting=W.get_sorting_extractor(sorting_id),\n",
    "    segment_duration_sec=60 * 20,\n",
    "    snippet_len=(20, 20),\n",
    "    max_num_snippets_per_segment=100,\n",
    "    channel_neighborhood_size=7\n",
    ")"
   ]
  },
  {
   "cell_type": "code",
   "execution_count": null,
   "id": "b6ebb6bd",
   "metadata": {
    "lines_to_next_cell": 0
   },
   "outputs": [],
   "source": [
    "# Get the unit metrics (if they have been set)\n",
    "unit_metrics = W.get_unit_metrics_for_sorting(sorting_id)\n",
    "print(unit_metrics)"
   ]
  },
  {
   "cell_type": "code",
   "execution_count": null,
   "id": "a1fca96e",
   "metadata": {
    "lines_to_next_cell": 0
   },
   "outputs": [],
   "source": [
    "# For subsampling the raster and spike amplitudes plots\n",
    "_raster_plot_subsample_max_firing_rate = None\n",
    "_spike_amplitudes_subsample_max_firing_rate = None"
   ]
  },
  {
   "cell_type": "code",
   "execution_count": null,
   "id": "73ef3b2c",
   "metadata": {
    "lines_to_next_cell": 0
   },
   "outputs": [],
   "source": [
    "# create a fake unit similiarity matrix\n",
    "similarity_scores: List[vv.UnitSimilarityScore] = []\n",
    "for u1 in X.unit_ids:\n",
    "    for u2 in X.unit_ids:\n",
    "        similarity_scores.append(\n",
    "            vv.UnitSimilarityScore(\n",
    "                unit_id1=u1,\n",
    "                unit_id2=u2,\n",
    "                similarity=1 - abs(u1 - u2) / (u1 + u2 + 1) # fake similarity score for testing\n",
    "            )\n",
    "        )\n",
    "# Create the similarity matrix view\n",
    "unit_similarity_matrix_view = vv.UnitSimilarityMatrix(\n",
    "    unit_ids=X.unit_ids,\n",
    "    similarity_scores=similarity_scores\n",
    ")"
   ]
  },
  {
   "cell_type": "code",
   "execution_count": null,
   "id": "45fdfbad",
   "metadata": {
    "lines_to_next_cell": 0
   },
   "outputs": [],
   "source": [
    "# Assemble the views in a layout\n",
    "# You can replace this with other layouts\n",
    "view = vv.MountainLayout(\n",
    "    items=[\n",
    "        vv.MountainLayoutItem(\n",
    "            label='Summary',\n",
    "            view=X.sorting_summary_view()\n",
    "        ),\n",
    "        vv.MountainLayoutItem(\n",
    "            label='Units table',\n",
    "            view=X.units_table_view(unit_ids=X.unit_ids, unit_metrics=unit_metrics)\n",
    "        ),\n",
    "        vv.MountainLayoutItem(\n",
    "            label='Raster plot',\n",
    "            view=X.raster_plot_view(unit_ids=X.unit_ids, _subsample_max_firing_rate=_raster_plot_subsample_max_firing_rate)\n",
    "        ),\n",
    "        vv.MountainLayoutItem(\n",
    "            label='Spike amplitudes',\n",
    "            view=X.spike_amplitudes_view(unit_ids=X.unit_ids, _subsample_max_firing_rate=_spike_amplitudes_subsample_max_firing_rate)\n",
    "        ),\n",
    "        vv.MountainLayoutItem(\n",
    "            label='Autocorrelograms',\n",
    "            view=X.autocorrelograms_view(unit_ids=X.unit_ids)\n",
    "        ),\n",
    "        vv.MountainLayoutItem(\n",
    "            label='Cross correlograms',\n",
    "            view=X.cross_correlograms_view(unit_ids=X.unit_ids)\n",
    "        ),\n",
    "        vv.MountainLayoutItem(\n",
    "            label='Avg waveforms',\n",
    "            view=X.average_waveforms_view(unit_ids=X.unit_ids)\n",
    "        ),\n",
    "        vv.MountainLayoutItem(\n",
    "            label='Electrode geometry',\n",
    "            view=X.electrode_geometry_view()\n",
    "        ),\n",
    "        vv.MountainLayoutItem(\n",
    "            label='Unit similarity matrix',\n",
    "            view=unit_similarity_matrix_view\n",
    "        ),\n",
    "        vv.MountainLayoutItem(\n",
    "            label='Curation',\n",
    "            view=vv.SortingCuration(),\n",
    "            is_control=True\n",
    "        )\n",
    "    ]\n",
    ")"
   ]
  },
  {
   "cell_type": "code",
   "execution_count": null,
   "id": "76b3e274",
   "metadata": {},
   "outputs": [],
   "source": [
    "# Generate the figurl (and upload data to kachery cloud)\n",
    "sorting_curation_uri = W.get_sorting_curation_uri(sorting_id)\n",
    "url = view.url(\n",
    "    label='sortingview workspace example',\n",
    "    sorting_curation_uri=sorting_curation_uri\n",
    ")\n",
    "print(url)\n",
    "# 7/9/22\n",
    "# https://figurl.org/f?v=gs://figurl/spikesortingview-6&d=sha1://5be362b05674e7c0c32da8f542b15b255ffc0dd6&project=lqhzprbdrq&label=sortingview%20workspace%20example"
   ]
  },
  {
   "cell_type": "code",
   "execution_count": null,
   "id": "7af77cf5",
   "metadata": {},
   "outputs": [],
   "source": [
    "# Assemble the views in a different layout\n",
    "v_unit_selection = X.units_table_view(unit_ids=X.unit_ids) # no metrics\n",
    "v_aw = X.average_waveforms_view(unit_ids=X.unit_ids)\n",
    "v_ac = X.autocorrelograms_view(unit_ids=X.unit_ids)\n",
    "v_cc = X.cross_correlograms_view(unit_ids=X.unit_ids, hide_unit_selector=True)\n",
    "v_sa = X.spike_amplitudes_view(unit_ids=X.unit_ids, hide_unit_selector=True)\n",
    "v_sm = unit_similarity_matrix_view\n",
    "v_curation = vv.SortingCuration()\n",
    "view = vv.Box(\n",
    "    direction='horizontal',\n",
    "    items=[\n",
    "        vv.LayoutItem(\n",
    "            vv.Box(\n",
    "                direction='vertical',\n",
    "                items=[\n",
    "                    vv.LayoutItem(v_unit_selection),\n",
    "                    vv.LayoutItem(v_curation, max_size=250)\n",
    "                ]\n",
    "            ),\n",
    "            max_size=150\n",
    "        ),\n",
    "        vv.LayoutItem(\n",
    "            vv.Box(\n",
    "                direction='vertical',\n",
    "                items=[\n",
    "                    vv.LayoutItem(\n",
    "                        vv.Splitter(\n",
    "                            direction='horizontal',\n",
    "                            item1=vv.LayoutItem(v_aw),\n",
    "                            item2=vv.LayoutItem(v_ac)\n",
    "                        )\n",
    "                    ),\n",
    "                    vv.LayoutItem(\n",
    "                        vv.Splitter(\n",
    "                            direction='horizontal',\n",
    "                            item1=vv.LayoutItem(v_cc),\n",
    "                            item2=vv.LayoutItem(vv.Box(\n",
    "                                direction='vertical',\n",
    "                                items=[\n",
    "                                    vv.LayoutItem(v_sa),\n",
    "                                    vv.LayoutItem(v_sm)\n",
    "                                ]\n",
    "                            ))\n",
    "                        )\n",
    "                    )\n",
    "                ]\n",
    "            )\n",
    "        )\n",
    "    ]\n",
    ")\n",
    "# Generate the figurl (and upload data to kachery cloud)\n",
    "sorting_curation_uri = W.get_sorting_curation_uri(sorting_id)\n",
    "url = view.url(\n",
    "    label='sortingview workspace example (alt layout)',\n",
    "    sorting_curation_uri=sorting_curation_uri\n",
    ")\n",
    "print(url)\n",
    "# 7/9/22\n",
    "# https://figurl.org/f?v=gs://figurl/spikesortingview-6&d=sha1://f07bf04b51dd183f8b55674449b4691ffd8c052f&project=lqhzprbdrq&label=sortingview%20workspace%20example%20%28alt%20layout%29"
   ]
  }
 ],
 "metadata": {
  "jupytext": {
   "cell_metadata_filter": "-all",
   "main_language": "python",
   "notebook_metadata_filter": "-all"
  }
 },
 "nbformat": 4,
 "nbformat_minor": 5
}
