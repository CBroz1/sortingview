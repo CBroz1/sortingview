{
 "cells": [
  {
   "cell_type": "code",
   "execution_count": null,
   "metadata": {},
   "outputs": [],
   "source": [
    "# imports\n",
    "import os\n",
    "import sys\n",
    "import kachery_cloud as kcl\n",
    "import sortingview as sv\n",
    "import spikeinterface.extractors as se\n",
    "\n",
    "# Append to the path so we can import from examples directory\n",
    "module_path = os.path.abspath(os.path.join('..'))\n",
    "if module_path not in sys.path:\n",
    "    sys.path.append(module_path)\n",
    "module_path = os.path.abspath(os.path.join('..', 'examples'))\n",
    "if module_path not in sys.path:\n",
    "    sys.path.append(module_path)\n",
    "from examples.example_autocorrelograms import example_autocorrelograms\n",
    "from examples.example_average_waveforms import example_average_waveforms\n",
    "from examples.example_box_layout import example_box_layout\n",
    "from examples.example_markdown import example_markdown\n",
    "from examples.example_mountain_layout import example_mountain_layout\n",
    "from examples.example_spike_locations import example_spike_locations\n",
    "\n",
    "# remove temporary directory when done\n",
    "kcl.use_sandbox()"
   ]
  },
  {
   "cell_type": "code",
   "execution_count": null,
   "metadata": {},
   "outputs": [],
   "source": [
    "# toy example recording/sorting pair\n",
    "recording, sorting = se.toy_example(num_units=12, duration=600, seed=0, num_segments=1)"
   ]
  },
  {
   "cell_type": "code",
   "execution_count": null,
   "metadata": {},
   "outputs": [],
   "source": [
    "# Autocorrelograms\n",
    "view = example_autocorrelograms(sorting=sorting)\n",
    "view.jupyter(height=250)"
   ]
  },
  {
   "cell_type": "code",
   "execution_count": null,
   "metadata": {},
   "outputs": [],
   "source": [
    "# Average waveforms\n",
    "view = example_average_waveforms(recording=recording, sorting=sorting)\n",
    "view.jupyter(height=500)"
   ]
  },
  {
   "cell_type": "code",
   "execution_count": null,
   "metadata": {},
   "outputs": [],
   "source": [
    "# Box layout\n",
    "# (Other layouts include Splitter and Tab)\n",
    "view = example_box_layout(recording=recording, sorting=sorting)\n",
    "view.jupyter(height=1000)"
   ]
  },
  {
   "cell_type": "code",
   "execution_count": null,
   "metadata": {},
   "outputs": [],
   "source": [
    "# Markdown\n",
    "view = example_markdown()\n",
    "view.jupyter(height=300)"
   ]
  },
  {
   "cell_type": "code",
   "execution_count": null,
   "metadata": {},
   "outputs": [],
   "source": [
    "# Mountain layout\n",
    "view = example_mountain_layout(recording=recording, sorting=sorting)\n",
    "view.jupyter(height=1000)"
   ]
  },
  {
   "cell_type": "code",
   "execution_count": null,
   "metadata": {},
   "outputs": [],
   "source": [
    "# Spike locations\n",
    "view = example_spike_locations(recording=recording, sorting=sorting, hide_unit_selector=False)\n",
    "view.jupyter(height=500)"
   ]
  },
  {
   "cell_type": "code",
   "execution_count": null,
   "metadata": {},
   "outputs": [],
   "source": [
    "# Live traces\n",
    "# Note: change recording_id if the recording changes (but not necessary to change if the sandbox directory is new)\n",
    "import sortingview.views as vv\n",
    "view = vv.LiveTraces(\n",
    "    recording=recording,\n",
    "    recording_id='test2'\n",
    ")\n",
    "view.jupyter(height=800)"
   ]
  },
  {
   "cell_type": "code",
   "execution_count": null,
   "metadata": {},
   "outputs": [],
   "source": [
    "# See examples folder for more examples"
   ]
  }
 ],
 "metadata": {
  "kernelspec": {
   "display_name": "Python 3 (ipykernel)",
   "language": "python",
   "name": "python3"
  },
  "language_info": {
   "codemirror_mode": {
    "name": "ipython",
    "version": 3
   },
   "file_extension": ".py",
   "mimetype": "text/x-python",
   "name": "python",
   "nbconvert_exporter": "python",
   "pygments_lexer": "ipython3",
   "version": "3.8.13"
  },
  "vscode": {
   "interpreter": {
    "hash": "d393c6d4fc36e4e5e21cda7e879fa1328f615a1ea1755c9f5384455425f7e3a5"
   }
  }
 },
 "nbformat": 4,
 "nbformat_minor": 4
}
