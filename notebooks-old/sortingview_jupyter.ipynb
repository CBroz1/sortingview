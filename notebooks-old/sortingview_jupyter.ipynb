{
 "cells": [
  {
   "cell_type": "code",
   "execution_count": null,
   "metadata": {},
   "outputs": [],
   "source": [
    "# Prerequisites\n",
    "# pip install --upgrade sortingview\n",
    "# pip install --upgrade figurl-jupyter\n",
    "\n",
    "# In order for the relative imports to work, your working directory must be this notebooks directory"
   ]
  },
  {
   "cell_type": "code",
   "execution_count": null,
   "metadata": {},
   "outputs": [],
   "source": [
    "# imports\n",
    "import os\n",
    "import sys\n",
    "import kachery as ka\n",
    "import sortingview as sv\n",
    "import spikeinterface.extractors as se\n",
    "\n",
    "# Append to the path so we can import from examples directory\n",
    "current_path = os.getcwd()\n",
    "path = os.path.join(current_path, '..')\n",
    "if path not in sys.path:\n",
    "    sys.path.insert(0, path)\n",
    "path = os.path.abspath(os.path.join(current_path, '..', 'examples'))\n",
    "if path not in sys.path:\n",
    "    sys.path.insert(0, path)\n",
    "\n",
    "# import some examples (relative imports)\n",
    "from examples.example_autocorrelograms import example_autocorrelograms\n",
    "from examples.example_average_waveforms import example_average_waveforms\n",
    "from examples.example_box_layout import example_box_layout\n",
    "from examples.example_markdown import example_markdown\n",
    "from examples.example_mountain_layout import example_mountain_layout\n",
    "from examples.example_spike_locations import example_spike_locations\n",
    "from examples.example_units_table import example_units_table\n",
    "from examples.example_raster_plot import example_raster_plot\n",
    "from examples.example_sorting_curation import example_sorting_curation\n",
    "\n",
    "# remove temporary directory when done\n",
    "ka.use_sandbox()\n",
    "\n",
    "# for local development of views, use this:\n",
    "# os.environ['SORTINGVIEW_VIEW_URL'] = 'http://localhost:3000'"
   ]
  },
  {
   "cell_type": "code",
   "execution_count": null,
   "metadata": {},
   "outputs": [],
   "source": [
    "# toy example recording/sorting pair\n",
    "recording, sorting = se.toy_example(num_units=12, duration=600, seed=0, num_segments=1)"
   ]
  },
  {
   "cell_type": "code",
   "execution_count": null,
   "metadata": {},
   "outputs": [],
   "source": [
    "# Autocorrelograms\n",
    "view_ac = example_autocorrelograms(sorting=sorting, height=300)\n",
    "view_ac"
   ]
  },
  {
   "cell_type": "code",
   "execution_count": null,
   "metadata": {},
   "outputs": [],
   "source": [
    "# programmatically select units\n",
    "view_ac.set_selected_unit_ids([1, 3, 5])"
   ]
  },
  {
   "cell_type": "code",
   "execution_count": null,
   "metadata": {},
   "outputs": [],
   "source": [
    "# programmatically retreive selected unit IDs\n",
    "# (also try modifying the selection manually)\n",
    "view_ac.selected_unit_ids"
   ]
  },
  {
   "cell_type": "code",
   "execution_count": null,
   "metadata": {},
   "outputs": [],
   "source": [
    "# Average waveforms\n",
    "view_aw = example_average_waveforms(recording=recording, sorting=sorting, height=450)\n",
    "view_aw"
   ]
  },
  {
   "cell_type": "code",
   "execution_count": null,
   "metadata": {},
   "outputs": [],
   "source": [
    "# set the selection from the previous cell\n",
    "view_aw.set_selected_unit_ids(view_ac.selected_unit_ids)"
   ]
  },
  {
   "cell_type": "code",
   "execution_count": null,
   "metadata": {},
   "outputs": [],
   "source": [
    "# Box layout\n",
    "# (Other layouts include Splitter and Tab)\n",
    "view = example_box_layout(recording=recording, sorting=sorting, height=1000)\n",
    "view"
   ]
  },
  {
   "cell_type": "code",
   "execution_count": null,
   "metadata": {},
   "outputs": [],
   "source": [
    "# Markdown\n",
    "view = example_markdown(height=300)\n",
    "view"
   ]
  },
  {
   "cell_type": "code",
   "execution_count": null,
   "metadata": {},
   "outputs": [],
   "source": [
    "# Mountain layout\n",
    "view = example_mountain_layout(recording=recording, sorting=sorting, height=800)\n",
    "view"
   ]
  },
  {
   "cell_type": "code",
   "execution_count": null,
   "metadata": {},
   "outputs": [],
   "source": [
    "# Spike locations\n",
    "view = example_spike_locations(recording=recording, sorting=sorting, hide_unit_selector=False, height=500)\n",
    "view"
   ]
  },
  {
   "cell_type": "code",
   "execution_count": null,
   "metadata": {},
   "outputs": [],
   "source": [
    "# Live traces\n",
    "# Note: change recording_id if the recording changes (but not necessary to change if the sandbox directory is new)\n",
    "import sortingview.views as vv\n",
    "view = vv.LiveTraces(\n",
    "    recording=recording,\n",
    "    recording_id='test2',\n",
    "    height=600\n",
    ")\n",
    "view"
   ]
  },
  {
   "cell_type": "code",
   "execution_count": null,
   "metadata": {},
   "outputs": [],
   "source": [
    "# Composable layout\n",
    "import sortingview.views as vv\n",
    "view_u = example_units_table(recording=recording, sorting=sorting)\n",
    "view_ac = example_autocorrelograms(sorting=sorting)\n",
    "view_r = example_raster_plot(recording=recording, sorting=sorting)\n",
    "view_m = example_markdown()\n",
    "view_sl = example_spike_locations(recording=recording, sorting=sorting)\n",
    "view = vv.Box(\n",
    "    # Vertical box layout\n",
    "    direction='vertical',\n",
    "    items=[\n",
    "        # top\n",
    "        vv.LayoutItem(\n",
    "            vv.Splitter(\n",
    "                # Splitter layout - resizable in the horizontal direction\n",
    "                direction='horizontal',\n",
    "                item1=vv.LayoutItem(view_u, max_size=400),\n",
    "                item2=vv.LayoutItem(view_ac),\n",
    "                height=1000\n",
    "            ),\n",
    "            stretch=1\n",
    "        ),\n",
    "        # bottom\n",
    "        vv.LayoutItem(\n",
    "            vv.TabLayout(\n",
    "                items=[\n",
    "                    # First tab\n",
    "                    vv.TabLayoutItem(\n",
    "                        label='Raster plot',\n",
    "                        view=view_r\n",
    "                    ),\n",
    "                    # Second tab\n",
    "                    vv.TabLayoutItem(\n",
    "                        label='Markdown',\n",
    "                        view=view_m\n",
    "                    ),\n",
    "                    # Third tab\n",
    "                    vv.TabLayoutItem(\n",
    "                        label='Spike locations',\n",
    "                        view=view_sl\n",
    "                    )\n",
    "                ]\n",
    "            ),\n",
    "            stretch=1.5\n",
    "        )\n",
    "    ],\n",
    "    height=1000\n",
    ")\n",
    "view"
   ]
  },
  {
   "cell_type": "code",
   "execution_count": null,
   "metadata": {},
   "outputs": [],
   "source": [
    "# Sorting curation widget\n",
    "view_sc = example_sorting_curation(sorting=sorting, height=500)\n",
    "view_sc"
   ]
  },
  {
   "cell_type": "code",
   "execution_count": null,
   "metadata": {},
   "outputs": [],
   "source": [
    "# Programmatically set the sorting curation\n",
    "view_sc.set_sorting_curation({'labelsByUnit': {'0': ['reject'], '1': ['reject'], '2': ['accept'], '4': ['accept'], '7': ['accept']}})"
   ]
  },
  {
   "cell_type": "code",
   "execution_count": null,
   "metadata": {},
   "outputs": [],
   "source": [
    "# Programmatically retrieve the sorting curation\n",
    "# (also, try manually curating)\n",
    "view_sc.sorting_curation"
   ]
  },
  {
   "cell_type": "code",
   "execution_count": null,
   "metadata": {},
   "outputs": [],
   "source": [
    "# See examples folder for more examples"
   ]
  }
 ],
 "metadata": {
  "kernelspec": {
   "display_name": "Python 3 (ipykernel)",
   "language": "python",
   "name": "python3"
  },
  "language_info": {
   "codemirror_mode": {
    "name": "ipython",
    "version": 3
   },
   "file_extension": ".py",
   "mimetype": "text/x-python",
   "name": "python",
   "nbconvert_exporter": "python",
   "pygments_lexer": "ipython3",
   "version": "3.9.13"
  },
  "vscode": {
   "interpreter": {
    "hash": "d393c6d4fc36e4e5e21cda7e879fa1328f615a1ea1755c9f5384455425f7e3a5"
   }
  }
 },
 "nbformat": 4,
 "nbformat_minor": 4
}
